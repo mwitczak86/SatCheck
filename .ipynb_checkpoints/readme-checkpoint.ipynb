{
 "cells": [
  {
   "attachments": {},
   "cell_type": "markdown",
   "metadata": {},
   "source": [
    "# SatCheck - network monitor.\n",
    "A C# .NET (mvvm) application with a graphical user interface (GUI) that stores data in a SQLite database and displays the status of hosts using live charts. The application also includes the ability to generate simple reports and save them as PDF files. In addition to these features, the application includes a few useful networking and radio communication units calculators. This tool can be useful for monitoring the status of hosts in a network.\n",
    "## How does it work?\n",
    "* <b>Welcome screen, currently only in Polish language.</b>\n",
    "![Welcome screen](/Demo_images/satcheck_welc.jpg)\n",
    "* <b>Network database - you can create, modify or delete network hosts</b>\n",
    "![DataBase_gif](/Demo_images/demo3.gif)\n",
    "* <b>Network status, refresh interval of 60 seconds.</b>\n",
    "![Network_status](/Demo_images/demo2.png)\n",
    "* <b>Host status with live network performance chart.</b>\n",
    "![Station_status](/Demo_images/demo4.png)\n",
    "* <b>A few useful units calculators</b>\n",
    "![Calculator_screen](/Demo_images/satcheck_calc.jpg)\n",
    "* <b>Printable reports section</b>\n",
    "![Reports_screen1](/Demo_images/satcheck_rep1.jpg)\n",
    "![Reports_screen2](/Demo_images/satcheck_rep2.jpg)\n",
    "\n",
    "## Requirements\n",
    "1. Modify paths to image files\n",
    "2. Run with VisualStudio 2019\n",
    "3. Sample database included in project files\n",
    "4. Packages used: sqlite-net, materialdesign, ookii.dialogs, livecharts\n",
    "5. Tested on Windows 10 OS.\n",
    "\n",
    "## License\n",
    "This project is licensed under the ISC License - see the LICENSE.md file for details\n",
    "\n",
    "### Author\n",
    "M.Witczak\n"
   ]
  },
  {
   "cell_type": "markdown",
   "metadata": {},
   "source": []
  }
 ],
 "metadata": {
  "kernelspec": {
   "display_name": "Python 3",
   "language": "python",
   "name": "python3"
  },
  "language_info": {
   "codemirror_mode": {
    "name": "ipython",
    "version": 3
   },
   "file_extension": ".py",
   "mimetype": "text/x-python",
   "name": "python",
   "nbconvert_exporter": "python",
   "pygments_lexer": "ipython3",
   "version": "3.7.6"
  }
 },
 "nbformat": 4,
 "nbformat_minor": 4
}
